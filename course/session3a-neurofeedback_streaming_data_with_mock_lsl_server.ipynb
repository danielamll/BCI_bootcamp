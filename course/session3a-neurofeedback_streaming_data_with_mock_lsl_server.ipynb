{
 "cells": [
  {
   "cell_type": "markdown",
   "metadata": {},
   "source": [
    "# Streaming EEG data with a mock LSL server"
   ]
  },
  {
   "cell_type": "markdown",
   "metadata": {},
   "source": [
    "TODO: Authors"
   ]
  },
  {
   "cell_type": "markdown",
   "metadata": {},
   "source": [
    "TODO: Intro to neurofeedback\n",
    "\n",
    "TODO: Intro to LSL\n",
    "\n",
    "TODO: based on notebook from mne_realtime docs"
   ]
  },
  {
   "cell_type": "code",
   "execution_count": 1,
   "metadata": {},
   "outputs": [],
   "source": [
    "import matplotlib \n",
    "import matplotlib.pyplot as plt\n",
    "\n",
    "import bbtools as bbt\n",
    "\n",
    "from mne_realtime import LSLClient, MockLSLStream\n",
    "\n",
    "%matplotlib notebook"
   ]
  },
  {
   "cell_type": "code",
   "execution_count": 2,
   "metadata": {},
   "outputs": [],
   "source": [
    "# this is the host id that identifies your stream on LSL\n",
    "host = 'localhost'\n",
    "# this is the max wait time in seconds until client connection\n",
    "wait_max = 5"
   ]
  },
  {
   "cell_type": "code",
   "execution_count": 3,
   "metadata": {},
   "outputs": [
    {
     "name": "stdout",
     "output_type": "stream",
     "text": [
      "Creating RawArray with float64 data, n_channels=16, n_times=31328\n",
      "    Range : 0 ... 31327 =      0.000 ...   122.371 secs\n",
      "Ready.\n",
      "DigMontage is a superset of info. 78 in DigMontage will be ignored. The ignored channels are: {'P7', 'T6', 'M1', 'F1', 'M2', 'AFz', 'P4', 'FC2', 'P6', 'A1', 'PO4', 'PO3', 'C6', 'AF2', 'F9', 'FT7', 'AF5', 'FT9', 'TP10', 'P1', 'AF8', 'AF10', 'T3', 'FC6', 'F5', 'A2', 'Oz', 'T8', 'T10', 'FT10', 'AF6', 'CP5', 'FCz', 'PO10', 'O10', 'P9', 'AF1', 'F2', 'FC1', 'PO5', 'T5', 'Fpz', 'Fz', 'PO2', 'F8', 'FC3', 'PO1', 'T9', 'F7', 'TP7', 'FC4', 'PO6', 'T7', 'CPz', 'C5', 'F6', 'P10', 'FT8', 'PO8', 'TP9', 'AF9', 'PO9', 'P8', 'AF3', 'AF7', 'F10', 'O9', 'TP8', 'Iz', 'P5', 'AF4', 'P3', 'T4', 'POz', 'PO7', 'CP6', 'P2', 'FC5'}\n"
     ]
    }
   ],
   "source": [
    "raw = bbt.read_csv(\n",
    "    \"../data/2020-02-15-bs-eyes-closed-no-labels/EEG.csv\",\n",
    "    ['Fp1', 'Fp2', 'F3', 'F4', 'C1', 'C3', 'C2', 'C4', 'CP1', 'CP3', 'CP2', 'CP4', 'Cz', 'O1', 'O2', 'Pz']\n",
    ")"
   ]
  },
  {
   "cell_type": "markdown",
   "metadata": {},
   "source": [
    "## Start the LSL server\n",
    "\n",
    "TODO: Instructions - Basically, leave it running until you want to stop it"
   ]
  },
  {
   "cell_type": "code",
   "execution_count": 4,
   "metadata": {},
   "outputs": [
    {
     "name": "stdout",
     "output_type": "stream",
     "text": [
      "now sending data...\n"
     ]
    },
    {
     "data": {
      "text/plain": [
       "<mne_realtime.mock_lsl_stream.MockLSLStream at 0x2a983f27d48>"
      ]
     },
     "execution_count": 4,
     "metadata": {},
     "output_type": "execute_result"
    }
   ],
   "source": [
    "# For this example, let's use the mock LSL stream.\n",
    "stream = MockLSLStream(host, raw, 'eeg', time_dilation=1)\n",
    "stream.start()"
   ]
  },
  {
   "cell_type": "markdown",
   "metadata": {},
   "source": [
    "## Stop the LSL server\n",
    "\n",
    "Stop streaming EEG data through the mock LSL server when it's no longer necessary."
   ]
  },
  {
   "cell_type": "code",
   "execution_count": 22,
   "metadata": {},
   "outputs": [
    {
     "name": "stdout",
     "output_type": "stream",
     "text": [
      "Stopping stream...\n"
     ]
    },
    {
     "data": {
      "text/plain": [
       "<mne_realtime.mock_lsl_stream.MockLSLStream at 0x127ac0d90>"
      ]
     },
     "execution_count": 22,
     "metadata": {},
     "output_type": "execute_result"
    }
   ],
   "source": [
    "# Let's terminate the mock LSL stream\n",
    "stream.stop()"
   ]
  }
 ],
 "metadata": {
  "kernelspec": {
   "display_name": "Python 3",
   "language": "python",
   "name": "python3"
  },
  "language_info": {
   "codemirror_mode": {
    "name": "ipython",
    "version": 3
   },
   "file_extension": ".py",
   "mimetype": "text/x-python",
   "name": "python",
   "nbconvert_exporter": "python",
   "pygments_lexer": "ipython3",
   "version": "3.7.4"
  }
 },
 "nbformat": 4,
 "nbformat_minor": 4
}
