{
 "cells": [
  {
   "cell_type": "markdown",
   "metadata": {},
   "source": [
    "# Streaming EEG data with a mock LSL server"
   ]
  },
  {
   "cell_type": "markdown",
   "metadata": {},
   "source": [
    "TODO: Authors"
   ]
  },
  {
   "cell_type": "markdown",
   "metadata": {},
   "source": [
    "TODO: Intro to neurofeedback\n",
    "\n",
    "TODO: Intro to LSL\n",
    "\n",
    "TODO: based on notebook from mne_realtime docs"
   ]
  },
  {
   "cell_type": "code",
   "execution_count": 18,
   "metadata": {},
   "outputs": [],
   "source": [
    "import matplotlib \n",
    "import matplotlib.pyplot as plt\n",
    "\n",
    "import bbtools as bbt\n",
    "\n",
    "from mne_realtime import LSLClient, MockLSLStream\n",
    "\n",
    "%matplotlib notebook"
   ]
  },
  {
   "cell_type": "code",
   "execution_count": 19,
   "metadata": {},
   "outputs": [],
   "source": [
    "# this is the host id that identifies your stream on LSL\n",
    "host = 'localhost'\n",
    "# this is the max wait time in seconds until client connection\n",
    "wait_max = 5"
   ]
  },
  {
   "cell_type": "code",
   "execution_count": 20,
   "metadata": {},
   "outputs": [
    {
     "name": "stdout",
     "output_type": "stream",
     "text": [
      "Creating RawArray with float64 data, n_channels=16, n_times=31328\n",
      "    Range : 0 ... 31327 =      0.000 ...   122.371 secs\n",
      "Ready.\n",
      "DigMontage is a superset of info. 78 in DigMontage will be ignored. The ignored channels are: {'P6', 'AF4', 'F6', 'T10', 'AF9', 'AF5', 'TP8', 'Iz', 'AF8', 'FC5', 'CP5', 'P10', 'F5', 'A2', 'T3', 'P2', 'PO5', 'FC2', 'PO8', 'FC4', 'FC1', 'CP6', 'P8', 'AFz', 'O10', 'F10', 'P5', 'F9', 'Oz', 'P4', 'TP9', 'T4', 'Fpz', 'AF6', 'T6', 'A1', 'M1', 'AF2', 'FT10', 'Fz', 'T8', 'AF1', 'T7', 'PO9', 'C6', 'AF10', 'P9', 'FT7', 'C5', 'M2', 'TP10', 'P1', 'TP7', 'PO4', 'POz', 'F2', 'O9', 'FT8', 'PO6', 'FCz', 'PO10', 'FC3', 'AF7', 'AF3', 'PO7', 'PO2', 'F7', 'PO1', 'CPz', 'P3', 'FC6', 'P7', 'F8', 'FT9', 'F1', 'T5', 'T9', 'PO3'}\n"
     ]
    }
   ],
   "source": [
    "raw = bbt.read_csv(\n",
    "    \"../data/2020-02-15-bs-eyes-closed-no-labels/EEG.csv\",\n",
    "    ['Fp1', 'Fp2', 'F3', 'F4', 'C1', 'C3', 'C2', 'C4', 'CP1', 'CP3', 'CP2', 'CP4', 'Cz', 'O1', 'O2', 'Pz']\n",
    ")"
   ]
  },
  {
   "cell_type": "markdown",
   "metadata": {},
   "source": [
    "## Start the LSL server\n",
    "\n",
    "TODO: Instructions - Basically, leave it running until you want to stop it"
   ]
  },
  {
   "cell_type": "code",
   "execution_count": 21,
   "metadata": {
    "scrolled": false
   },
   "outputs": [
    {
     "name": "stdout",
     "output_type": "stream",
     "text": [
      "now sending data...\n"
     ]
    },
    {
     "data": {
      "text/plain": [
       "<mne_realtime.mock_lsl_stream.MockLSLStream at 0x127ac0d90>"
      ]
     },
     "execution_count": 21,
     "metadata": {},
     "output_type": "execute_result"
    }
   ],
   "source": [
    "# For this example, let's use the mock LSL stream.\n",
    "stream = MockLSLStream(host, raw, 'eeg', time_dilation=1)\n",
    "stream.start()"
   ]
  },
  {
   "cell_type": "markdown",
   "metadata": {},
   "source": [
    "## Stop the LSL server\n",
    "\n",
    "Stop streaming EEG data through the mock LSL server when it's no longer necessary."
   ]
  },
  {
   "cell_type": "code",
   "execution_count": 22,
   "metadata": {},
   "outputs": [
    {
     "name": "stdout",
     "output_type": "stream",
     "text": [
      "Stopping stream...\n"
     ]
    },
    {
     "data": {
      "text/plain": [
       "<mne_realtime.mock_lsl_stream.MockLSLStream at 0x127ac0d90>"
      ]
     },
     "execution_count": 22,
     "metadata": {},
     "output_type": "execute_result"
    }
   ],
   "source": [
    "# Let's terminate the mock LSL stream\n",
    "stream.stop()"
   ]
  }
 ],
 "metadata": {
  "kernelspec": {
   "display_name": "Python 3",
   "language": "python",
   "name": "python3"
  },
  "language_info": {
   "codemirror_mode": {
    "name": "ipython",
    "version": 3
   },
   "file_extension": ".py",
   "mimetype": "text/x-python",
   "name": "python",
   "nbconvert_exporter": "python",
   "pygments_lexer": "ipython3",
   "version": "3.7.7"
  }
 },
 "nbformat": 4,
 "nbformat_minor": 2
}
