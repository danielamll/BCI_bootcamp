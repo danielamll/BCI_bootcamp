{
 "cells": [
  {
   "cell_type": "markdown",
   "metadata": {},
   "source": [
    "# Predicting EEG time series\n",
    "\n",
    "**Authors**:\n",
    "\n",
    " - Javi Rameerez javi@rameerez.com | [@rameerez [tw]](http://twitter.com/rameerez)\n",
    "\n",
    "---\n",
    "\n",
    "_This code is Open Source, released under a GPL License._"
   ]
  },
  {
   "cell_type": "markdown",
   "metadata": {},
   "source": [
    "Our goal is to use some kind of mathematical model, more concisely machine learning models, to model the behavior of our EEG time series.\n",
    "\n",
    "Our first guess will be to use deep Recurrent Neural Networks (RNN) based on LSTM cells."
   ]
  },
  {
   "cell_type": "markdown",
   "metadata": {},
   "source": [
    "## Single-variable time series modelling with LSTM-based RNNs"
   ]
  },
  {
   "cell_type": "markdown",
   "metadata": {},
   "source": [
    "Based on [this](https://github.com/spdin/time-series-prediction-lstm-pytorch/blob/master/Time_Series_Prediction_with_LSTM_Using_PyTorch.ipynb) notebook."
   ]
  },
  {
   "cell_type": "code",
   "execution_count": 36,
   "metadata": {},
   "outputs": [],
   "source": [
    "import numpy as np\n",
    "import matplotlib.pyplot as plt\n",
    "import pandas as pd\n",
    "import torch\n",
    "import torch.nn as nn\n",
    "from torch.autograd import Variable\n",
    "from sklearn.preprocessing import MinMaxScaler"
   ]
  },
  {
   "cell_type": "code",
   "execution_count": 43,
   "metadata": {},
   "outputs": [],
   "source": [
    "df = pd.read_csv(\"data/2-thinking-about-moving-hands-1-BBT-E16-AAA005-2019-11-08_18-40-17/EEG.csv\")"
   ]
  },
  {
   "cell_type": "code",
   "execution_count": 44,
   "metadata": {},
   "outputs": [
    {
     "data": {
      "text/html": [
       "<div>\n",
       "<style scoped>\n",
       "    .dataframe tbody tr th:only-of-type {\n",
       "        vertical-align: middle;\n",
       "    }\n",
       "\n",
       "    .dataframe tbody tr th {\n",
       "        vertical-align: top;\n",
       "    }\n",
       "\n",
       "    .dataframe thead th {\n",
       "        text-align: right;\n",
       "    }\n",
       "</style>\n",
       "<table border=\"1\" class=\"dataframe\">\n",
       "  <thead>\n",
       "    <tr style=\"text-align: right;\">\n",
       "      <th></th>\n",
       "      <th>timestamp</th>\n",
       "      <th>sequence</th>\n",
       "      <th>battery</th>\n",
       "      <th>flags</th>\n",
       "      <th>EEG-ch1</th>\n",
       "      <th>EEG-ch2</th>\n",
       "      <th>EEG-ch3</th>\n",
       "      <th>EEG-ch4</th>\n",
       "      <th>EEG-ch5</th>\n",
       "      <th>EEG-ch6</th>\n",
       "      <th>EEG-ch7</th>\n",
       "      <th>EEG-ch8</th>\n",
       "      <th>EEG-ch9</th>\n",
       "      <th>EEG-ch10</th>\n",
       "      <th>EEG-ch11</th>\n",
       "      <th>EEG-ch12</th>\n",
       "      <th>EEG-ch13</th>\n",
       "      <th>EEG-ch14</th>\n",
       "      <th>EEG-ch15</th>\n",
       "      <th>EEG-ch16</th>\n",
       "    </tr>\n",
       "  </thead>\n",
       "  <tbody>\n",
       "    <tr>\n",
       "      <th>0</th>\n",
       "      <td>11002356847</td>\n",
       "      <td>19440</td>\n",
       "      <td>-2</td>\n",
       "      <td>0</td>\n",
       "      <td>28375.884227</td>\n",
       "      <td>6223.655248</td>\n",
       "      <td>4573.301857</td>\n",
       "      <td>12550.176205</td>\n",
       "      <td>-46087.548753</td>\n",
       "      <td>-3893.383126</td>\n",
       "      <td>-51657.105123</td>\n",
       "      <td>-58516.230505</td>\n",
       "      <td>-11171.284130</td>\n",
       "      <td>-39439.399066</td>\n",
       "      <td>-53518.811408</td>\n",
       "      <td>-23091.210143</td>\n",
       "      <td>-36824.889547</td>\n",
       "      <td>-8738.718181</td>\n",
       "      <td>-15298.457383</td>\n",
       "      <td>-2868.193830</td>\n",
       "    </tr>\n",
       "    <tr>\n",
       "      <th>1</th>\n",
       "      <td>11002356847</td>\n",
       "      <td>19440</td>\n",
       "      <td>-2</td>\n",
       "      <td>0</td>\n",
       "      <td>28371.576862</td>\n",
       "      <td>6201.108506</td>\n",
       "      <td>4573.265354</td>\n",
       "      <td>12544.420884</td>\n",
       "      <td>-46086.100797</td>\n",
       "      <td>-3893.005928</td>\n",
       "      <td>-51655.803179</td>\n",
       "      <td>-58514.819052</td>\n",
       "      <td>-11171.454478</td>\n",
       "      <td>-39437.951110</td>\n",
       "      <td>-53516.730732</td>\n",
       "      <td>-23089.920367</td>\n",
       "      <td>-36825.802124</td>\n",
       "      <td>-8739.156218</td>\n",
       "      <td>-15297.240613</td>\n",
       "      <td>-2867.037899</td>\n",
       "    </tr>\n",
       "    <tr>\n",
       "      <th>2</th>\n",
       "      <td>11002356847</td>\n",
       "      <td>19440</td>\n",
       "      <td>-2</td>\n",
       "      <td>0</td>\n",
       "      <td>28370.506105</td>\n",
       "      <td>6200.171593</td>\n",
       "      <td>4573.873739</td>\n",
       "      <td>12542.182028</td>\n",
       "      <td>-46086.392822</td>\n",
       "      <td>-3891.460630</td>\n",
       "      <td>-51654.452565</td>\n",
       "      <td>-58514.770382</td>\n",
       "      <td>-11170.140367</td>\n",
       "      <td>-39437.719924</td>\n",
       "      <td>-53516.706396</td>\n",
       "      <td>-23088.618423</td>\n",
       "      <td>-36823.916131</td>\n",
       "      <td>-8741.346404</td>\n",
       "      <td>-15302.886425</td>\n",
       "      <td>-2872.063158</td>\n",
       "    </tr>\n",
       "    <tr>\n",
       "      <th>3</th>\n",
       "      <td>11002356847</td>\n",
       "      <td>19440</td>\n",
       "      <td>-2</td>\n",
       "      <td>0</td>\n",
       "      <td>28372.477272</td>\n",
       "      <td>6224.811179</td>\n",
       "      <td>4570.819647</td>\n",
       "      <td>12543.240618</td>\n",
       "      <td>-46088.071964</td>\n",
       "      <td>-3893.310120</td>\n",
       "      <td>-51656.448067</td>\n",
       "      <td>-58518.201672</td>\n",
       "      <td>-11172.245378</td>\n",
       "      <td>-39438.364812</td>\n",
       "      <td>-53519.310283</td>\n",
       "      <td>-23090.285398</td>\n",
       "      <td>-36824.938217</td>\n",
       "      <td>-8744.059800</td>\n",
       "      <td>-15310.320888</td>\n",
       "      <td>-2882.612551</td>\n",
       "    </tr>\n",
       "    <tr>\n",
       "      <th>4</th>\n",
       "      <td>11002356847</td>\n",
       "      <td>19440</td>\n",
       "      <td>-2</td>\n",
       "      <td>0</td>\n",
       "      <td>28370.092403</td>\n",
       "      <td>6218.228455</td>\n",
       "      <td>4571.014330</td>\n",
       "      <td>12541.439799</td>\n",
       "      <td>-46088.607343</td>\n",
       "      <td>-3894.648567</td>\n",
       "      <td>-51657.737843</td>\n",
       "      <td>-58519.235926</td>\n",
       "      <td>-11172.452229</td>\n",
       "      <td>-39439.691091</td>\n",
       "      <td>-53520.733904</td>\n",
       "      <td>-23091.039795</td>\n",
       "      <td>-36826.690366</td>\n",
       "      <td>-8742.392826</td>\n",
       "      <td>-15311.574160</td>\n",
       "      <td>-2883.196601</td>\n",
       "    </tr>\n",
       "  </tbody>\n",
       "</table>\n",
       "</div>"
      ],
      "text/plain": [
       "     timestamp  sequence  battery  flags       EEG-ch1      EEG-ch2  \\\n",
       "0  11002356847     19440       -2      0  28375.884227  6223.655248   \n",
       "1  11002356847     19440       -2      0  28371.576862  6201.108506   \n",
       "2  11002356847     19440       -2      0  28370.506105  6200.171593   \n",
       "3  11002356847     19440       -2      0  28372.477272  6224.811179   \n",
       "4  11002356847     19440       -2      0  28370.092403  6218.228455   \n",
       "\n",
       "       EEG-ch3       EEG-ch4       EEG-ch5      EEG-ch6       EEG-ch7  \\\n",
       "0  4573.301857  12550.176205 -46087.548753 -3893.383126 -51657.105123   \n",
       "1  4573.265354  12544.420884 -46086.100797 -3893.005928 -51655.803179   \n",
       "2  4573.873739  12542.182028 -46086.392822 -3891.460630 -51654.452565   \n",
       "3  4570.819647  12543.240618 -46088.071964 -3893.310120 -51656.448067   \n",
       "4  4571.014330  12541.439799 -46088.607343 -3894.648567 -51657.737843   \n",
       "\n",
       "        EEG-ch8       EEG-ch9      EEG-ch10      EEG-ch11      EEG-ch12  \\\n",
       "0 -58516.230505 -11171.284130 -39439.399066 -53518.811408 -23091.210143   \n",
       "1 -58514.819052 -11171.454478 -39437.951110 -53516.730732 -23089.920367   \n",
       "2 -58514.770382 -11170.140367 -39437.719924 -53516.706396 -23088.618423   \n",
       "3 -58518.201672 -11172.245378 -39438.364812 -53519.310283 -23090.285398   \n",
       "4 -58519.235926 -11172.452229 -39439.691091 -53520.733904 -23091.039795   \n",
       "\n",
       "       EEG-ch13     EEG-ch14      EEG-ch15     EEG-ch16  \n",
       "0 -36824.889547 -8738.718181 -15298.457383 -2868.193830  \n",
       "1 -36825.802124 -8739.156218 -15297.240613 -2867.037899  \n",
       "2 -36823.916131 -8741.346404 -15302.886425 -2872.063158  \n",
       "3 -36824.938217 -8744.059800 -15310.320888 -2882.612551  \n",
       "4 -36826.690366 -8742.392826 -15311.574160 -2883.196601  "
      ]
     },
     "execution_count": 44,
     "metadata": {},
     "output_type": "execute_result"
    }
   ],
   "source": [
    "df.head()"
   ]
  },
  {
   "cell_type": "code",
   "execution_count": 46,
   "metadata": {},
   "outputs": [
    {
     "data": {
      "image/png": "[encoded data removed]",
      "text/plain": [
       "<Figure size 1152x144 with 1 Axes>"
      ]
     },
     "metadata": {
      "needs_background": "light"
     },
     "output_type": "display_data"
    }
   ],
   "source": [
    "df[\"EEG-ch1\"].plot(figsize=(16,2));"
   ]
  },
  {
   "cell_type": "code",
   "execution_count": 47,
   "metadata": {},
   "outputs": [],
   "source": [
    "training_set = df[\"EEG-ch1\"].values"
   ]
  },
  {
   "cell_type": "code",
   "execution_count": 48,
   "metadata": {},
   "outputs": [
    {
     "data": {
      "text/plain": [
       "array([28375.88422679, 28371.57686211, 28370.50610479, ...,\n",
       "       28047.17389712, 28047.00354936, 28048.4028345 ])"
      ]
     },
     "execution_count": 48,
     "metadata": {},
     "output_type": "execute_result"
    }
   ],
   "source": [
    "training_set"
   ]
  },
  {
   "cell_type": "code",
   "execution_count": 49,
   "metadata": {},
   "outputs": [],
   "source": [
    "# Required for Scikitlearn to rescale\n",
    "training_set = training_set.reshape(-1,1)"
   ]
  },
  {
   "cell_type": "code",
   "execution_count": 50,
   "metadata": {},
   "outputs": [
    {
     "data": {
      "text/plain": [
       "array([[28375.88422679],\n",
       "       [28371.57686211],\n",
       "       [28370.50610479],\n",
       "       ...,\n",
       "       [28047.17389712],\n",
       "       [28047.00354936],\n",
       "       [28048.4028345 ]])"
      ]
     },
     "execution_count": 50,
     "metadata": {},
     "output_type": "execute_result"
    }
   ],
   "source": [
    "training_set"
   ]
  },
  {
   "cell_type": "markdown",
   "metadata": {},
   "source": [
    "### Data splitting"
   ]
  },
  {
   "cell_type": "code",
   "execution_count": 51,
   "metadata": {},
   "outputs": [],
   "source": [
    "def sliding_windows(data, seq_length):\n",
    "    x = []\n",
    "    y = []\n",
    "\n",
    "    for i in range(len(data)-seq_length-1):\n",
    "        _x = data[i:(i+seq_length)]\n",
    "        _y = data[i+seq_length]\n",
    "        x.append(_x)\n",
    "        y.append(_y)\n",
    "\n",
    "    return np.array(x),np.array(y)"
   ]
  },
  {
   "cell_type": "code",
   "execution_count": 52,
   "metadata": {},
   "outputs": [],
   "source": [
    "sc = MinMaxScaler()\n",
    "training_data = sc.fit_transform(training_set)\n",
    "\n",
    "seq_length = 4\n",
    "x, y = sliding_windows(training_data, seq_length)\n",
    "\n",
    "train_size = int(len(y) * 0.67)\n",
    "test_size = len(y) - train_size\n",
    "\n",
    "dataX = Variable(torch.Tensor(np.array(x)))\n",
    "dataY = Variable(torch.Tensor(np.array(y)))\n",
    "\n",
    "trainX = Variable(torch.Tensor(np.array(x[0:train_size])))\n",
    "trainY = Variable(torch.Tensor(np.array(y[0:train_size])))\n",
    "\n",
    "testX = Variable(torch.Tensor(np.array(x[train_size:len(x)])))\n",
    "testY = Variable(torch.Tensor(np.array(y[train_size:len(y)])))"
   ]
  },
  {
   "cell_type": "markdown",
   "metadata": {},
   "source": [
    "### Defining our LSTM neural network"
   ]
  },
  {
   "cell_type": "code",
   "execution_count": 53,
   "metadata": {},
   "outputs": [],
   "source": [
    "class LSTM(nn.Module):\n",
    "\n",
    "    def __init__(self, num_classes, input_size, hidden_size, num_layers):\n",
    "        super(LSTM, self).__init__()\n",
    "        \n",
    "        self.num_classes = num_classes\n",
    "        self.num_layers = num_layers\n",
    "        self.input_size = input_size\n",
    "        self.hidden_size = hidden_size\n",
    "        self.seq_length = seq_length\n",
    "        \n",
    "        self.lstm = nn.LSTM(input_size=input_size, hidden_size=hidden_size,\n",
    "                            num_layers=num_layers, batch_first=True)\n",
    "        \n",
    "        self.fc = nn.Linear(hidden_size, num_classes)\n",
    "\n",
    "    def forward(self, x):\n",
    "        h_0 = Variable(torch.zeros(\n",
    "            self.num_layers, x.size(0), self.hidden_size))\n",
    "        \n",
    "        c_0 = Variable(torch.zeros(\n",
    "            self.num_layers, x.size(0), self.hidden_size))\n",
    "        \n",
    "        # Propagate input through LSTM\n",
    "        ula, (h_out, _) = self.lstm(x, (h_0, c_0))\n",
    "        \n",
    "        h_out = h_out.view(-1, self.hidden_size)\n",
    "        \n",
    "        out = self.fc(h_out)\n",
    "        \n",
    "        return out"
   ]
  },
  {
   "cell_type": "markdown",
   "metadata": {},
   "source": [
    "### Training the neural net"
   ]
  },
  {
   "cell_type": "code",
   "execution_count": 54,
   "metadata": {},
   "outputs": [
    {
     "name": "stdout",
     "output_type": "stream",
     "text": [
      "Epoch: 0, loss: 0.62038\n",
      "Epoch: 10, loss: 0.23084\n",
      "Epoch: 20, loss: 0.03076\n",
      "Epoch: 30, loss: 0.04937\n",
      "Epoch: 40, loss: 0.02777\n",
      "Epoch: 50, loss: 0.02850\n",
      "Epoch: 60, loss: 0.02443\n",
      "Epoch: 70, loss: 0.02250\n",
      "Epoch: 80, loss: 0.01975\n",
      "Epoch: 90, loss: 0.01715\n",
      "Epoch: 100, loss: 0.01411\n",
      "Epoch: 110, loss: 0.01096\n",
      "Epoch: 120, loss: 0.00791\n",
      "Epoch: 130, loss: 0.00514\n",
      "Epoch: 140, loss: 0.00289\n",
      "Epoch: 150, loss: 0.00132\n",
      "Epoch: 160, loss: 0.00046\n",
      "Epoch: 170, loss: 0.00015\n",
      "Epoch: 180, loss: 0.00010\n",
      "Epoch: 190, loss: 0.00011\n"
     ]
    }
   ],
   "source": [
    "num_epochs = 200\n",
    "learning_rate = 0.01\n",
    "\n",
    "input_size = 1\n",
    "hidden_size = 2\n",
    "num_layers = 1\n",
    "\n",
    "num_classes = 1\n",
    "\n",
    "lstm = LSTM(num_classes, input_size, hidden_size, num_layers)\n",
    "\n",
    "criterion = torch.nn.MSELoss()    # mean-squared error for regression\n",
    "optimizer = torch.optim.Adam(lstm.parameters(), lr=learning_rate)\n",
    "#optimizer = torch.optim.SGD(lstm.parameters(), lr=learning_rate)\n",
    "\n",
    "# Train the model\n",
    "for epoch in range(num_epochs):\n",
    "    outputs = lstm(trainX)\n",
    "    optimizer.zero_grad()\n",
    "    \n",
    "    # obtain the loss function\n",
    "    loss = criterion(outputs, trainY)\n",
    "    \n",
    "    loss.backward()\n",
    "    \n",
    "    optimizer.step()\n",
    "    if epoch % 10 == 0:\n",
    "      print(\"Epoch: %d, loss: %1.5f\" % (epoch, loss.item()))"
   ]
  },
  {
   "cell_type": "markdown",
   "metadata": {},
   "source": [
    "### Predicting (overfitted data)"
   ]
  },
  {
   "cell_type": "code",
   "execution_count": 55,
   "metadata": {},
   "outputs": [],
   "source": [
    "lstm.eval()\n",
    "train_predict = lstm(dataX)"
   ]
  },
  {
   "cell_type": "code",
   "execution_count": 56,
   "metadata": {},
   "outputs": [
    {
     "data": {
      "text/plain": [
       "array([[0.92540526],\n",
       "       [0.9236368 ],\n",
       "       [0.9237139 ],\n",
       "       ...,\n",
       "       [0.23110685],\n",
       "       [0.22384694],\n",
       "       [0.220435  ]], dtype=float32)"
      ]
     },
     "execution_count": 56,
     "metadata": {},
     "output_type": "execute_result"
    }
   ],
   "source": [
    "train_predict.data.numpy()"
   ]
  },
  {
   "cell_type": "code",
   "execution_count": 57,
   "metadata": {},
   "outputs": [
    {
     "data": {
      "text/plain": [
       "array([[0.9263466 ],\n",
       "       [0.9289445 ],\n",
       "       [0.93709755],\n",
       "       ...,\n",
       "       [0.18995108],\n",
       "       [0.19288063],\n",
       "       [0.1924937 ]], dtype=float32)"
      ]
     },
     "execution_count": 57,
     "metadata": {},
     "output_type": "execute_result"
    }
   ],
   "source": [
    "dataY.data.numpy()"
   ]
  },
  {
   "cell_type": "code",
   "execution_count": 58,
   "metadata": {},
   "outputs": [
    {
     "data": {
      "image/png": "[encoded data removed]",
      "text/plain": [
       "<Figure size 1152x288 with 1 Axes>"
      ]
     },
     "metadata": {
      "needs_background": "light"
     },
     "output_type": "display_data"
    }
   ],
   "source": [
    "trim_to = 300 ## or train_size\n",
    "\n",
    "data_predict = train_predict.data.numpy()[:trim_to]\n",
    "dataY_plot = dataY.data.numpy()[:trim_to]\n",
    "\n",
    "data_predict = sc.inverse_transform(data_predict)\n",
    "dataY_plot = sc.inverse_transform(dataY_plot)\n",
    "\n",
    "plt.figure(figsize=(16,4))\n",
    "\n",
    "plt.axvline(x=trim_to, c='r', linestyle='--')\n",
    "\n",
    "plt.plot(dataY_plot)\n",
    "plt.plot(data_predict)\n",
    "plt.suptitle('EEG Time-Series Prediction')\n",
    "plt.show()"
   ]
  },
  {
   "cell_type": "markdown",
   "metadata": {},
   "source": [
    "## Is it generalizing well?"
   ]
  },
  {
   "cell_type": "code",
   "execution_count": 42,
   "metadata": {},
   "outputs": [],
   "source": [
    "df_test = pd.read_pickle(\"data/3-thinking-about-moving-hands-2-BBT-E16-AAA005-2019-11-08_18-45-48/labelled-eeg.pkl\")"
   ]
  },
  {
   "cell_type": "code",
   "execution_count": 59,
   "metadata": {},
   "outputs": [
    {
     "data": {
      "text/html": [
       "<div>\n",
       "<style scoped>\n",
       "    .dataframe tbody tr th:only-of-type {\n",
       "        vertical-align: middle;\n",
       "    }\n",
       "\n",
       "    .dataframe tbody tr th {\n",
       "        vertical-align: top;\n",
       "    }\n",
       "\n",
       "    .dataframe thead th {\n",
       "        text-align: right;\n",
       "    }\n",
       "</style>\n",
       "<table border=\"1\" class=\"dataframe\">\n",
       "  <thead>\n",
       "    <tr style=\"text-align: right;\">\n",
       "      <th></th>\n",
       "      <th>timestamp</th>\n",
       "      <th>sequence</th>\n",
       "      <th>battery</th>\n",
       "      <th>flags</th>\n",
       "      <th>EEG-ch1</th>\n",
       "      <th>EEG-ch2</th>\n",
       "      <th>EEG-ch3</th>\n",
       "      <th>EEG-ch4</th>\n",
       "      <th>EEG-ch5</th>\n",
       "      <th>EEG-ch6</th>\n",
       "      <th>...</th>\n",
       "      <th>EEG-ch9</th>\n",
       "      <th>EEG-ch10</th>\n",
       "      <th>EEG-ch11</th>\n",
       "      <th>EEG-ch12</th>\n",
       "      <th>EEG-ch13</th>\n",
       "      <th>EEG-ch14</th>\n",
       "      <th>EEG-ch15</th>\n",
       "      <th>EEG-ch16</th>\n",
       "      <th>label</th>\n",
       "      <th>label_code</th>\n",
       "    </tr>\n",
       "  </thead>\n",
       "  <tbody>\n",
       "    <tr>\n",
       "      <th>0</th>\n",
       "      <td>11333317601</td>\n",
       "      <td>24377</td>\n",
       "      <td>-2</td>\n",
       "      <td>0</td>\n",
       "      <td>26244.797302</td>\n",
       "      <td>14440.732099</td>\n",
       "      <td>5991.811953</td>\n",
       "      <td>12210.174253</td>\n",
       "      <td>-45292.170747</td>\n",
       "      <td>-11380.008801</td>\n",
       "      <td>...</td>\n",
       "      <td>-7832.273439</td>\n",
       "      <td>-37863.463309</td>\n",
       "      <td>-51954.398459</td>\n",
       "      <td>-22407.896624</td>\n",
       "      <td>-35959.960986</td>\n",
       "      <td>-9194.593110</td>\n",
       "      <td>-11373.864115</td>\n",
       "      <td>-1316.946330</td>\n",
       "      <td>none</td>\n",
       "      <td>-1</td>\n",
       "    </tr>\n",
       "    <tr>\n",
       "      <th>1</th>\n",
       "      <td>11333317601</td>\n",
       "      <td>24377</td>\n",
       "      <td>-2</td>\n",
       "      <td>0</td>\n",
       "      <td>26243.252005</td>\n",
       "      <td>14437.422485</td>\n",
       "      <td>5986.409495</td>\n",
       "      <td>12208.555949</td>\n",
       "      <td>-45295.078827</td>\n",
       "      <td>-11383.062893</td>\n",
       "      <td>...</td>\n",
       "      <td>-7834.609637</td>\n",
       "      <td>-37864.509731</td>\n",
       "      <td>-51954.921670</td>\n",
       "      <td>-22409.685276</td>\n",
       "      <td>-35960.545035</td>\n",
       "      <td>-9197.476855</td>\n",
       "      <td>-11376.346325</td>\n",
       "      <td>-1316.435287</td>\n",
       "      <td>none</td>\n",
       "      <td>-1</td>\n",
       "    </tr>\n",
       "    <tr>\n",
       "      <th>2</th>\n",
       "      <td>11333317601</td>\n",
       "      <td>24377</td>\n",
       "      <td>-2</td>\n",
       "      <td>0</td>\n",
       "      <td>26238.092901</td>\n",
       "      <td>14432.640580</td>\n",
       "      <td>5983.099882</td>\n",
       "      <td>12203.834883</td>\n",
       "      <td>-45298.497950</td>\n",
       "      <td>-11384.973222</td>\n",
       "      <td>...</td>\n",
       "      <td>-7838.539803</td>\n",
       "      <td>-37869.315971</td>\n",
       "      <td>-51959.910426</td>\n",
       "      <td>-22412.629859</td>\n",
       "      <td>-35963.842481</td>\n",
       "      <td>-9202.429107</td>\n",
       "      <td>-11381.164733</td>\n",
       "      <td>-1318.832323</td>\n",
       "      <td>none</td>\n",
       "      <td>-1</td>\n",
       "    </tr>\n",
       "    <tr>\n",
       "      <th>3</th>\n",
       "      <td>11333317601</td>\n",
       "      <td>24377</td>\n",
       "      <td>-2</td>\n",
       "      <td>0</td>\n",
       "      <td>26233.603021</td>\n",
       "      <td>14429.257961</td>\n",
       "      <td>5980.106628</td>\n",
       "      <td>12198.310748</td>\n",
       "      <td>-45303.377196</td>\n",
       "      <td>-11389.098071</td>\n",
       "      <td>...</td>\n",
       "      <td>-7841.472218</td>\n",
       "      <td>-37872.674256</td>\n",
       "      <td>-51965.872598</td>\n",
       "      <td>-22416.925056</td>\n",
       "      <td>-35967.152095</td>\n",
       "      <td>-9205.544038</td>\n",
       "      <td>-11385.034060</td>\n",
       "      <td>-1321.363204</td>\n",
       "      <td>none</td>\n",
       "      <td>-1</td>\n",
       "    </tr>\n",
       "    <tr>\n",
       "      <th>4</th>\n",
       "      <td>11333317601</td>\n",
       "      <td>24377</td>\n",
       "      <td>-2</td>\n",
       "      <td>0</td>\n",
       "      <td>26235.939219</td>\n",
       "      <td>14427.140781</td>\n",
       "      <td>5978.111126</td>\n",
       "      <td>12200.598275</td>\n",
       "      <td>-45305.749897</td>\n",
       "      <td>-11390.241834</td>\n",
       "      <td>...</td>\n",
       "      <td>-7843.735409</td>\n",
       "      <td>-37874.681925</td>\n",
       "      <td>-51968.707671</td>\n",
       "      <td>-22420.599700</td>\n",
       "      <td>-35969.196268</td>\n",
       "      <td>-9208.087086</td>\n",
       "      <td>-11386.396842</td>\n",
       "      <td>-1321.886415</td>\n",
       "      <td>none</td>\n",
       "      <td>-1</td>\n",
       "    </tr>\n",
       "  </tbody>\n",
       "</table>\n",
       "<p>5 rows × 22 columns</p>\n",
       "</div>"
      ],
      "text/plain": [
       "     timestamp  sequence  battery  flags       EEG-ch1       EEG-ch2  \\\n",
       "0  11333317601     24377       -2      0  26244.797302  14440.732099   \n",
       "1  11333317601     24377       -2      0  26243.252005  14437.422485   \n",
       "2  11333317601     24377       -2      0  26238.092901  14432.640580   \n",
       "3  11333317601     24377       -2      0  26233.603021  14429.257961   \n",
       "4  11333317601     24377       -2      0  26235.939219  14427.140781   \n",
       "\n",
       "       EEG-ch3       EEG-ch4       EEG-ch5       EEG-ch6  ...      EEG-ch9  \\\n",
       "0  5991.811953  12210.174253 -45292.170747 -11380.008801  ... -7832.273439   \n",
       "1  5986.409495  12208.555949 -45295.078827 -11383.062893  ... -7834.609637   \n",
       "2  5983.099882  12203.834883 -45298.497950 -11384.973222  ... -7838.539803   \n",
       "3  5980.106628  12198.310748 -45303.377196 -11389.098071  ... -7841.472218   \n",
       "4  5978.111126  12200.598275 -45305.749897 -11390.241834  ... -7843.735409   \n",
       "\n",
       "       EEG-ch10      EEG-ch11      EEG-ch12      EEG-ch13     EEG-ch14  \\\n",
       "0 -37863.463309 -51954.398459 -22407.896624 -35959.960986 -9194.593110   \n",
       "1 -37864.509731 -51954.921670 -22409.685276 -35960.545035 -9197.476855   \n",
       "2 -37869.315971 -51959.910426 -22412.629859 -35963.842481 -9202.429107   \n",
       "3 -37872.674256 -51965.872598 -22416.925056 -35967.152095 -9205.544038   \n",
       "4 -37874.681925 -51968.707671 -22420.599700 -35969.196268 -9208.087086   \n",
       "\n",
       "       EEG-ch15     EEG-ch16  label  label_code  \n",
       "0 -11373.864115 -1316.946330   none          -1  \n",
       "1 -11376.346325 -1316.435287   none          -1  \n",
       "2 -11381.164733 -1318.832323   none          -1  \n",
       "3 -11385.034060 -1321.363204   none          -1  \n",
       "4 -11386.396842 -1321.886415   none          -1  \n",
       "\n",
       "[5 rows x 22 columns]"
      ]
     },
     "execution_count": 59,
     "metadata": {},
     "output_type": "execute_result"
    }
   ],
   "source": [
    "df_test.head()"
   ]
  },
  {
   "cell_type": "code",
   "execution_count": 61,
   "metadata": {},
   "outputs": [
    {
     "data": {
      "image/png": "[encoded data removed]",
      "text/plain": [
       "<Figure size 1152x72 with 1 Axes>"
      ]
     },
     "metadata": {
      "needs_background": "light"
     },
     "output_type": "display_data"
    }
   ],
   "source": [
    "df_test.loc[df_test['label'] == \"rest\"][\"EEG-ch1\"].plot(figsize=(16, 1));"
   ]
  },
  {
   "cell_type": "code",
   "execution_count": 82,
   "metadata": {},
   "outputs": [],
   "source": [
    "test_set = df_test[\"EEG-ch2\"].values\n",
    "test_set = test_set.reshape(-1,1)\n",
    "\n",
    "sc = MinMaxScaler()\n",
    "test_data = sc.fit_transform(test_set)\n",
    "\n",
    "seq_length = 4\n",
    "x, y = sliding_windows(test_data, seq_length)\n",
    "\n",
    "testX = Variable(torch.Tensor(np.array(x)))\n",
    "testY = Variable(torch.Tensor(np.array(y)))"
   ]
  },
  {
   "cell_type": "code",
   "execution_count": 83,
   "metadata": {},
   "outputs": [
    {
     "data": {
      "image/png": "[encoded data removed]",
      "text/plain": [
       "<Figure size 432x288 with 1 Axes>"
      ]
     },
     "metadata": {
      "needs_background": "light"
     },
     "output_type": "display_data"
    }
   ],
   "source": [
    "lstm.eval()\n",
    "test_predict = lstm(testX)\n",
    "\n",
    "data_predict = test_predict.data.numpy()\n",
    "dataY_plot = dataY.data.numpy()\n",
    "\n",
    "data_predict = sc.inverse_transform(data_predict)\n",
    "dataY_plot = sc.inverse_transform(dataY_plot)\n",
    "\n",
    "plt.axvline(x=train_size, c='r', linestyle='--')\n",
    "\n",
    "plt.plot(dataY_plot)\n",
    "plt.plot(data_predict)\n",
    "plt.suptitle('Time-Series Prediction')\n",
    "plt.show()"
   ]
  },
  {
   "cell_type": "code",
   "execution_count": null,
   "metadata": {},
   "outputs": [],
   "source": []
  }
 ],
 "metadata": {
  "kernelspec": {
   "display_name": "Python 3",
   "language": "python",
   "name": "python3"
  },
  "language_info": {
   "codemirror_mode": {
    "name": "ipython",
    "version": 3
   },
   "file_extension": ".py",
   "mimetype": "text/x-python",
   "name": "python",
   "nbconvert_exporter": "python",
   "pygments_lexer": "ipython3",
   "version": "3.7.2"
  }
 },
 "nbformat": 4,
 "nbformat_minor": 2
}
