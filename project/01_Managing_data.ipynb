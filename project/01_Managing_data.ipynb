{
 "cells": [
  {
   "cell_type": "markdown",
   "metadata": {},
   "source": [
    "# Data Loader"
   ]
  },
  {
   "cell_type": "code",
   "execution_count": 6,
   "metadata": {},
   "outputs": [],
   "source": [
    "import numpy as np\n",
    "from moabb.datasets import BNCI2014002\n",
    "import pandas as pd\n",
    "import mne\n",
    "from moabb.paradigms import  MotorImagery\n",
    "import matplotlib.pyplot as plt\n",
    "%matplotlib inline"
   ]
  },
  {
   "cell_type": "code",
   "execution_count": 7,
   "metadata": {},
   "outputs": [
    {
     "name": "stderr",
     "output_type": "stream",
     "text": [
      "Choosing from all possible events\n"
     ]
    }
   ],
   "source": [
    "paradigm = MotorImagery(n_classes = 2)\n",
    "dataset = BNCI2014002()\n",
    "subjects = [1]\n",
    "\n",
    "\n",
    "X, y, metadata = paradigm.get_data(dataset=dataset, subjects=subjects)\n",
    "X = np.delete(X, -1,axis = 2)"
   ]
  },
  {
   "cell_type": "code",
   "execution_count": 8,
   "metadata": {
    "pycharm": {
     "name": "#%%\n"
    }
   },
   "outputs": [
    {
     "data": {
      "text/plain": [
       "(160, 15, 2560)"
      ]
     },
     "execution_count": 8,
     "metadata": {},
     "output_type": "execute_result"
    }
   ],
   "source": [
    "X.shape"
   ]
  },
  {
   "cell_type": "code",
   "execution_count": 32,
   "metadata": {},
   "outputs": [],
   "source": [
    "from scipy.signal import welch"
   ]
  },
  {
   "cell_type": "code",
   "execution_count": 157,
   "metadata": {},
   "outputs": [],
   "source": [
    "f = np.apply_along_axis(welch, 1, X[100], fs = 512, nperseg = 1*512)"
   ]
  },
  {
   "cell_type": "code",
   "execution_count": 158,
   "metadata": {},
   "outputs": [
    {
     "data": {
      "text/plain": [
       "(0, 35)"
      ]
     },
     "execution_count": 158,
     "metadata": {},
     "output_type": "execute_result"
    },
    {
     "data": {
      "image/png": "[encoded data removed]",
      "text/plain": [
       "<Figure size 432x288 with 1 Axes>"
      ]
     },
     "metadata": {
      "needs_background": "light"
     },
     "output_type": "display_data"
    }
   ],
   "source": [
    "plt.scatter(f[0,0], f[10,1])\n",
    "plt.xlim([0,35])"
   ]
  },
  {
   "cell_type": "code",
   "execution_count": 154,
   "metadata": {},
   "outputs": [
    {
     "ename": "ValueError",
     "evalue": "cannot reshape array of size 1930 into shape (2570,)",
     "output_type": "error",
     "traceback": [
      "\u001b[0;31m---------------------------------------------------------------------------\u001b[0m",
      "\u001b[0;31mValueError\u001b[0m                                Traceback (most recent call last)",
      "\u001b[0;32m<ipython-input-154-bea87e7ee242>\u001b[0m in \u001b[0;36m<module>\u001b[0;34m\u001b[0m\n\u001b[0;32m----> 1\u001b[0;31m \u001b[0mf\u001b[0m\u001b[0;34m[\u001b[0m\u001b[0;36m5\u001b[0m\u001b[0;34m:\u001b[0m\u001b[0;36m36\u001b[0m\u001b[0;34m,\u001b[0m\u001b[0;36m1\u001b[0m\u001b[0;34m]\u001b[0m\u001b[0;34m.\u001b[0m\u001b[0mreshape\u001b[0m\u001b[0;34m(\u001b[0m\u001b[0;36m257\u001b[0m\u001b[0;34m*\u001b[0m\u001b[0;36m10\u001b[0m\u001b[0;34m)\u001b[0m\u001b[0;34m.\u001b[0m\u001b[0mshape\u001b[0m\u001b[0;34m\u001b[0m\u001b[0;34m\u001b[0m\u001b[0m\n\u001b[0m",
      "\u001b[0;31mValueError\u001b[0m: cannot reshape array of size 1930 into shape (2570,)"
     ]
    }
   ],
   "source": [
    "f[5:36,1].reshape(257*10).shape"
   ]
  },
  {
   "cell_type": "code",
   "execution_count": 70,
   "metadata": {},
   "outputs": [
    {
     "data": {
      "text/plain": [
       "(15, 2560)"
      ]
     },
     "execution_count": 70,
     "metadata": {},
     "output_type": "execute_result"
    }
   ],
   "source": [
    "X[0].shape"
   ]
  },
  {
   "cell_type": "code",
   "execution_count": 73,
   "metadata": {},
   "outputs": [
    {
     "data": {
      "text/plain": [
       "<matplotlib.collections.PathCollection at 0x7fd048af67d0>"
      ]
     },
     "execution_count": 73,
     "metadata": {},
     "output_type": "execute_result"
    },
    {
     "data": {
      "image/png": "[encoded data removed]",
      "text/plain": [
       "<Figure size 432x288 with 1 Axes>"
      ]
     },
     "metadata": {
      "needs_background": "light"
     },
     "output_type": "display_data"
    }
   ],
   "source": [
    "plt.scatter(f[:,0], psd[:,])"
   ]
  },
  {
   "cell_type": "code",
   "execution_count": 78,
   "metadata": {
    "pycharm": {
     "name": "#%%\n"
    }
   },
   "outputs": [
    {
     "data": {
      "text/plain": [
       "(15, 409600)"
      ]
     },
     "execution_count": 78,
     "metadata": {},
     "output_type": "execute_result"
    }
   ],
   "source": [
    "X2d = X[0]\n",
    "for i in range(1, X.shape[0]):\n",
    "    X2d = np.concatenate((X2d, X[i]), axis = 1)\n",
    "X2d.shape"
   ]
  },
  {
   "cell_type": "code",
   "execution_count": null,
   "metadata": {
    "scrolled": true
   },
   "outputs": [],
   "source": [
    "def get_raw(dataset, paradigm, n_channels, sfreq):\n",
    "    '''\n",
    "    Takes a dataset from moabb datasets and creates 3 dictionaries with subject number as keys and X matrix, y labels and metadata\n",
    "    as dictionary values respectively.\n",
    "    X: Original 3D data matrix (num_cases, n_channels, lectures) is reshaped to 2D matrix (len(num_cases)*len(lectures),len(n_channels))\n",
    "    y: This array corresponds with the class for each case. It has num_cases length.\n",
    "    metadata: Describes each subject\n",
    "    '''\n",
    "    \n",
    "    subjects_all = dataset.subject_list\n",
    "    channels = [str(a+1) for a in range(n_channels)]\n",
    "    \n",
    "\n",
    "    X_all_subjects = {}\n",
    "    y_all_subjects = {}\n",
    "    metadata_all_subjects = {}\n",
    "    \n",
    "    for subject in subjects_all:\n",
    "        \n",
    "        X, y, metadata = paradigm.get_data(dataset=dataset, subjects=[subject])\n",
    "        X = np.delete(X, -1,axis = 2)\n",
    "        X_2d = X.reshape(n_channels,(X.shape[0]*X.shape[2]))\n",
    "        data_mne = X_2d\n",
    "        data_mne = data_mne / 1000000      \n",
    "                        \n",
    "        info_mne = mne.create_info(\n",
    "            ch_names=channels,\n",
    "            ch_types='eeg',\n",
    "            sfreq=sfreq)\n",
    "        \n",
    "        raw = mne.io.RawArray(data_mne, info_mne)\n",
    "        #ten_twenty_montage = mne.channels.make_standard_montage('standard_1020')\n",
    "        #raw_1020 = raw.copy().set_montage(ten_twenty_montage)\n",
    "\n",
    "        X_all_subjects.update({str(subject):raw})\n",
    "        y_all_subjects.update({str(subject):y})\n",
    "        metadata_all_subjects.update({str(subject):metadata})\n",
    "        \n",
    "    return X_all_subjects, y_all_subjects, metadata_all_subjects\n",
    "        \n",
    "        \n",
    "X_all_subjects, y_all_subjects, metadata_all_subjects = get_raw(dataset, paradigm, 22, 250)\n",
    "\n",
    "print(X_all_subjects)\n",
    "    \n",
    "    "
   ]
  },
  {
   "cell_type": "code",
   "execution_count": null,
   "metadata": {},
   "outputs": [],
   "source": [
    "X_all_subjects"
   ]
  },
  {
   "cell_type": "code",
   "execution_count": null,
   "metadata": {},
   "outputs": [],
   "source": [
    "# Way to acces an specific subject\n",
    "subject_i = X_all_subjects['3']\n",
    "plot_fig = subject_i.plot(scalings = 0.5e-4)"
   ]
  },
  {
   "cell_type": "code",
   "execution_count": null,
   "metadata": {
    "scrolled": true
   },
   "outputs": [],
   "source": [
    "# Way to iterate among the dictionary with all subjects\n",
    "\n",
    "for k,v  in X_all_subjects.items():\n",
    "    plot_fig = v.plot(scalings = 0.5e-3)"
   ]
  },
  {
   "cell_type": "code",
   "execution_count": null,
   "metadata": {
    "scrolled": true
   },
   "outputs": [],
   "source": [
    "#Para pasar a .fif\n",
    "\n",
    "path = '../data/vendor/bnci-001-2014'\n",
    "for k,v  in X_all_subjects.items():\n",
    "    v.save(f'{path}/bnci-001-2014-{k}.fif', overwrite=True)"
   ]
  },
  {
   "cell_type": "code",
   "execution_count": null,
   "metadata": {},
   "outputs": [],
   "source": [
    "for number,subject in X_all_subjects.items():\n",
    "    fig = subject.plot_psd(fmin = 0, fmax = 300, average=False, tmin = 0, tmax = 250)"
   ]
  },
  {
   "cell_type": "code",
   "execution_count": null,
   "metadata": {},
   "outputs": [],
   "source": []
  },
  {
   "cell_type": "code",
   "execution_count": null,
   "metadata": {},
   "outputs": [],
   "source": []
  },
  {
   "cell_type": "code",
   "execution_count": null,
   "metadata": {},
   "outputs": [],
   "source": []
  },
  {
   "cell_type": "code",
   "execution_count": 162,
   "metadata": {},
   "outputs": [],
   "source": [
    "from lib import aisat as ai"
   ]
  },
  {
   "cell_type": "code",
   "execution_count": 163,
   "metadata": {},
   "outputs": [
    {
     "name": "stderr",
     "output_type": "stream",
     "text": [
      "Choosing from all possible events\n"
     ]
    },
    {
     "name": "stdout",
     "output_type": "stream",
     "text": [
      "0\n",
      "\n",
      "1\n",
      "\n",
      "2\n",
      "\n",
      "3\n",
      "\n",
      "4\n",
      "\n",
      "5\n",
      "\n",
      "6\n",
      "\n",
      "7\n",
      "\n",
      "8\n",
      "\n",
      "9\n",
      "\n",
      "10\n",
      "\n",
      "11\n",
      "\n",
      "12\n",
      "\n",
      "13\n",
      "\n"
     ]
    }
   ],
   "source": [
    "paradigm = MotorImagery(n_classes = 2)\n",
    "dataset = BNCI2014002()\n",
    "\n",
    "path = './test_path/eeg'\n",
    "\n",
    "ai.extract_features(dataset, paradigm, 512, path)"
   ]
  },
  {
   "cell_type": "code",
   "execution_count": null,
   "metadata": {},
   "outputs": [],
   "source": []
  }
 ],
 "metadata": {
  "kernelspec": {
   "display_name": "Python 3",
   "language": "python",
   "name": "python3"
  },
  "language_info": {
   "codemirror_mode": {
    "name": "ipython",
    "version": 3
   },
   "file_extension": ".py",
   "mimetype": "text/x-python",
   "name": "python",
   "nbconvert_exporter": "python",
   "pygments_lexer": "ipython3",
   "version": "3.7.6"
  }
 },
 "nbformat": 4,
 "nbformat_minor": 4
}
