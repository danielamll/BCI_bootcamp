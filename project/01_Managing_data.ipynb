{
 "cells": [
  {
   "cell_type": "markdown",
   "metadata": {},
   "source": [
    "# Data Loader"
   ]
  },
  {
   "cell_type": "code",
   "execution_count": 2,
   "metadata": {},
   "outputs": [],
   "source": [
    "import numpy as np\n",
    "from moabb.datasets import BNCI2014001\n",
    "import pandas as pd\n",
    "import mne\n",
    "from moabb.paradigms import  MotorImagery\n",
    "\n",
    "%matplotlib inline"
   ]
  },
  {
   "cell_type": "code",
   "execution_count": 3,
   "metadata": {},
   "outputs": [
    {
     "name": "stderr",
     "output_type": "stream",
     "text": [
      "Choosing from all possible events\n"
     ]
    }
   ],
   "source": [
    "paradigm = MotorImagery(n_classes=4)\n",
    "dataset = BNCI2014001()\n",
    "subjects = [1,2,3,4,5,6,7,8,9]\n",
    "\n",
    "\n",
    "X, y, metadata = paradigm.get_data(dataset=dataset, subjects=subjects)"
   ]
  },
  {
   "cell_type": "code",
   "execution_count": 4,
   "metadata": {},
   "outputs": [
    {
     "name": "stdout",
     "output_type": "stream",
     "text": [
      "[1, 2, 3, 4, 5, 6, 7, 8, 9]\n"
     ]
    }
   ],
   "source": [
    "print(subjects)"
   ]
  },
  {
   "cell_type": "code",
   "execution_count": 6,
   "metadata": {},
   "outputs": [
    {
     "data": {
      "text/plain": [
       "'tongue'"
      ]
     },
     "execution_count": 6,
     "metadata": {},
     "output_type": "execute_result"
    }
   ],
   "source": [
    "y[0]"
   ]
  },
  {
   "cell_type": "code",
   "execution_count": 10,
   "metadata": {},
   "outputs": [],
   "source": [
    "import csv\n",
    "Y=[]\n",
    "\n",
    "for i in y:\n",
    "    if i == 'right_hand':\n",
    "        Y = Y+ [int(0)]\n",
    "    if i == 'left_hand':\n",
    "        Y = Y+ [int(1)]\n",
    "    if i == 'feet':\n",
    "        Y = Y+ [int(2)]\n",
    "    else:\n",
    "        Y = Y+ [int(3)]\n",
    "                \n",
    "with open('./data/labels_004_1.csv', 'w', newline='') as myfile:\n",
    "     wr = csv.writer(myfile, quoting=csv.QUOTE_ALL)\n",
    "     wr.writerow(Y)"
   ]
  },
  {
   "cell_type": "code",
   "execution_count": 11,
   "metadata": {},
   "outputs": [
    {
     "data": {
      "text/plain": [
       "(7776,)"
      ]
     },
     "execution_count": 11,
     "metadata": {},
     "output_type": "execute_result"
    }
   ],
   "source": [
    "X = np.array(Y)\n",
    "X.shape"
   ]
  },
  {
   "cell_type": "code",
   "execution_count": null,
   "metadata": {},
   "outputs": [],
   "source": [
    "metadata"
   ]
  },
  {
   "cell_type": "code",
   "execution_count": null,
   "metadata": {},
   "outputs": [],
   "source": [
    "new_X.shape"
   ]
  },
  {
   "cell_type": "code",
   "execution_count": null,
   "metadata": {
    "scrolled": true
   },
   "outputs": [],
   "source": [
    "dataset = BNCI2014001()\n",
    "paradigm = MotorImagery(n_classes=4)\n",
    "\n",
    "def get_raw(dataset, paradigm, n_channels, sfreq):\n",
    "    '''\n",
    "    Takes a dataset from moabb datasets and creates 3 dictionaries with subject number as keys and X matrix, y labels and metadata\n",
    "    as dictionary values respectively.\n",
    "    X: Original 3D data matrix (num_cases, n_channels, lectures) is reshaped to 2D matrix (len(num_cases)*len(lectures),len(n_channels))\n",
    "    y: This array corresponds with the class for each case. It has num_cases length.\n",
    "    metadata: Describes each subject\n",
    "    '''\n",
    "    \n",
    "    subjects_all = dataset.subject_list\n",
    "    channels = [str(a+1) for a in range(n_channels)]\n",
    "    \n",
    "\n",
    "    X_all_subjects = {}\n",
    "    y_all_subjects = {}\n",
    "    metadata_all_subjects = {}\n",
    "    \n",
    "    for subject in subjects_all:\n",
    "        \n",
    "        X, y, metadata = paradigm.get_data(dataset=dataset, subjects=[subject])\n",
    "        X = np.delete(X, -1,axis = 2)\n",
    "        X_2d = X.reshape(n_channels,(X.shape[0]*X.shape[2]))\n",
    "        data_mne = X_2d\n",
    "        data_mne = data_mne / 1000000      \n",
    "                        \n",
    "        info_mne = mne.create_info(\n",
    "            ch_names=channels,\n",
    "            ch_types='eeg',\n",
    "            sfreq=sfreq)\n",
    "        \n",
    "        raw = mne.io.RawArray(data_mne, info_mne)\n",
    "        #ten_twenty_montage = mne.channels.make_standard_montage('standard_1020')\n",
    "        #raw_1020 = raw.copy().set_montage(ten_twenty_montage)\n",
    "\n",
    "        X_all_subjects.update({str(subject):raw})\n",
    "        y_all_subjects.update({str(subject):y})\n",
    "        metadata_all_subjects.update({str(subject):metadata})\n",
    "        \n",
    "    return X_all_subjects, y_all_subjects, metadata_all_subjects\n",
    "        \n",
    "        \n",
    "X_all_subjects, y_all_subjects, metadata_all_subjects = get_raw(dataset, paradigm, 22, 250)\n",
    "\n",
    "print(X_all_subjects)\n",
    "    \n",
    "    "
   ]
  },
  {
   "cell_type": "code",
   "execution_count": null,
   "metadata": {},
   "outputs": [],
   "source": [
    "X_all_subjects"
   ]
  },
  {
   "cell_type": "code",
   "execution_count": null,
   "metadata": {},
   "outputs": [],
   "source": [
    "# Way to acces an specific subject\n",
    "subject_i = X_all_subjects['3']\n",
    "plot_fig = subject_i.plot(scalings = 0.5e-4)"
   ]
  },
  {
   "cell_type": "code",
   "execution_count": null,
   "metadata": {
    "scrolled": true
   },
   "outputs": [],
   "source": [
    "# Way to iterate among the dictionary with all subjects\n",
    "\n",
    "for k,v  in X_all_subjects.items():\n",
    "    plot_fig = v.plot(scalings = 0.5e-3)"
   ]
  },
  {
   "cell_type": "code",
   "execution_count": null,
   "metadata": {
    "scrolled": true
   },
   "outputs": [],
   "source": [
    "#Para pasar a .fif\n",
    "\n",
    "path = '../data/vendor/bnci-001-2014'\n",
    "for k,v  in X_all_subjects.items():\n",
    "    v.save(f'{path}/bnci-001-2014-{k}.fif', overwrite=True)"
   ]
  },
  {
   "cell_type": "code",
   "execution_count": null,
   "metadata": {},
   "outputs": [],
   "source": [
    "for number,subject in X_all_subjects.items():\n",
    "    fig = subject.plot_psd(fmin = 0, fmax = 300, average=False, tmin = 0, tmax = 250)"
   ]
  },
  {
   "cell_type": "code",
   "execution_count": null,
   "metadata": {},
   "outputs": [],
   "source": []
  }
 ],
 "metadata": {
  "kernelspec": {
   "display_name": "Python 3",
   "language": "python",
   "name": "python3"
  },
  "language_info": {
   "codemirror_mode": {
    "name": "ipython",
    "version": 3
   },
   "file_extension": ".py",
   "mimetype": "text/x-python",
   "name": "python",
   "nbconvert_exporter": "python",
   "pygments_lexer": "ipython3",
   "version": "3.7.4"
  }
 },
 "nbformat": 4,
 "nbformat_minor": 4
}
